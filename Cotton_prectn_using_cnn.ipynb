{
 "cells": [
  {
   "cell_type": "code",
   "execution_count": 1,
   "id": "8781bc7c",
   "metadata": {
    "execution": {
     "iopub.execute_input": "2022-05-12T03:03:00.107981Z",
     "iopub.status.busy": "2022-05-12T03:03:00.107356Z",
     "iopub.status.idle": "2022-05-12T03:03:05.668431Z",
     "shell.execute_reply": "2022-05-12T03:03:05.667689Z"
    },
    "papermill": {
     "duration": 5.603957,
     "end_time": "2022-05-12T03:03:05.670659",
     "exception": false,
     "start_time": "2022-05-12T03:03:00.066702",
     "status": "completed"
    },
    "tags": []
   },
   "outputs": [],
   "source": [
    "#importing libraries\n",
    "import tensorflow as tf #deep learning lib\n",
    "from tensorflow.keras import models,layers\n",
    "import matplotlib.pyplot as plt #plotting our plots"
   ]
  },
  {
   "cell_type": "code",
   "execution_count": 2,
   "id": "86b44a93",
   "metadata": {
    "execution": {
     "iopub.execute_input": "2022-05-12T03:03:05.714978Z",
     "iopub.status.busy": "2022-05-12T03:03:05.714743Z",
     "iopub.status.idle": "2022-05-12T03:03:05.718235Z",
     "shell.execute_reply": "2022-05-12T03:03:05.717602Z"
    },
    "papermill": {
     "duration": 0.027836,
     "end_time": "2022-05-12T03:03:05.719817",
     "exception": false,
     "start_time": "2022-05-12T03:03:05.691981",
     "status": "completed"
    },
    "tags": []
   },
   "outputs": [],
   "source": [
    "import keras #for using keras preprocessing and other functions"
   ]
  },
  {
   "cell_type": "code",
   "execution_count": 3,
   "id": "8b9c279f",
   "metadata": {
    "execution": {
     "iopub.execute_input": "2022-05-12T03:03:05.762427Z",
     "iopub.status.busy": "2022-05-12T03:03:05.761927Z",
     "iopub.status.idle": "2022-05-12T03:03:05.765204Z",
     "shell.execute_reply": "2022-05-12T03:03:05.764556Z"
    },
    "papermill": {
     "duration": 0.026219,
     "end_time": "2022-05-12T03:03:05.766739",
     "exception": false,
     "start_time": "2022-05-12T03:03:05.740520",
     "status": "completed"
    },
    "tags": []
   },
   "outputs": [],
   "source": [
    "#input size\n",
    "img_size = 255\n",
    "batches = 32\n",
    "channels = 3\n"
   ]
  },
  {
   "cell_type": "code",
   "execution_count": 4,
   "id": "92c6f1ab",
   "metadata": {
    "execution": {
     "iopub.execute_input": "2022-05-12T03:03:05.809404Z",
     "iopub.status.busy": "2022-05-12T03:03:05.808913Z",
     "iopub.status.idle": "2022-05-12T03:03:09.387064Z",
     "shell.execute_reply": "2022-05-12T03:03:09.386297Z"
    },
    "papermill": {
     "duration": 3.601639,
     "end_time": "2022-05-12T03:03:09.389004",
     "exception": false,
     "start_time": "2022-05-12T03:03:05.787365",
     "status": "completed"
    },
    "tags": []
   },
   "outputs": [
    {
     "name": "stdout",
     "output_type": "stream",
     "text": [
      "Found 1951 files belonging to 4 classes.\n"
     ]
    },
    {
     "name": "stderr",
     "output_type": "stream",
     "text": [
      "2022-05-12 03:03:06.306191: I tensorflow/stream_executor/cuda/cuda_gpu_executor.cc:937] successful NUMA node read from SysFS had negative value (-1), but there must be at least one NUMA node, so returning NUMA node zero\n",
      "2022-05-12 03:03:06.428720: I tensorflow/stream_executor/cuda/cuda_gpu_executor.cc:937] successful NUMA node read from SysFS had negative value (-1), but there must be at least one NUMA node, so returning NUMA node zero\n",
      "2022-05-12 03:03:06.429462: I tensorflow/stream_executor/cuda/cuda_gpu_executor.cc:937] successful NUMA node read from SysFS had negative value (-1), but there must be at least one NUMA node, so returning NUMA node zero\n",
      "2022-05-12 03:03:06.434854: I tensorflow/core/platform/cpu_feature_guard.cc:142] This TensorFlow binary is optimized with oneAPI Deep Neural Network Library (oneDNN) to use the following CPU instructions in performance-critical operations:  AVX2 AVX512F FMA\n",
      "To enable them in other operations, rebuild TensorFlow with the appropriate compiler flags.\n",
      "2022-05-12 03:03:06.435112: I tensorflow/stream_executor/cuda/cuda_gpu_executor.cc:937] successful NUMA node read from SysFS had negative value (-1), but there must be at least one NUMA node, so returning NUMA node zero\n",
      "2022-05-12 03:03:06.435814: I tensorflow/stream_executor/cuda/cuda_gpu_executor.cc:937] successful NUMA node read from SysFS had negative value (-1), but there must be at least one NUMA node, so returning NUMA node zero\n",
      "2022-05-12 03:03:06.436465: I tensorflow/stream_executor/cuda/cuda_gpu_executor.cc:937] successful NUMA node read from SysFS had negative value (-1), but there must be at least one NUMA node, so returning NUMA node zero\n",
      "2022-05-12 03:03:08.652463: I tensorflow/stream_executor/cuda/cuda_gpu_executor.cc:937] successful NUMA node read from SysFS had negative value (-1), but there must be at least one NUMA node, so returning NUMA node zero\n",
      "2022-05-12 03:03:08.653443: I tensorflow/stream_executor/cuda/cuda_gpu_executor.cc:937] successful NUMA node read from SysFS had negative value (-1), but there must be at least one NUMA node, so returning NUMA node zero\n",
      "2022-05-12 03:03:08.654292: I tensorflow/stream_executor/cuda/cuda_gpu_executor.cc:937] successful NUMA node read from SysFS had negative value (-1), but there must be at least one NUMA node, so returning NUMA node zero\n",
      "2022-05-12 03:03:08.661964: I tensorflow/core/common_runtime/gpu/gpu_device.cc:1510] Created device /job:localhost/replica:0/task:0/device:GPU:0 with 15403 MB memory:  -> device: 0, name: Tesla P100-PCIE-16GB, pci bus id: 0000:00:04.0, compute capability: 6.0\n"
     ]
    },
    {
     "name": "stdout",
     "output_type": "stream",
     "text": [
      "Found 106 files belonging to 4 classes.\n",
      "Found 253 files belonging to 4 classes.\n"
     ]
    }
   ],
   "source": [
    "#creating batches for train , val , test\n",
    "training_ds = tf.keras.preprocessing.image_dataset_from_directory(\n",
    "    \"../input/cotton-disease-dataset/Cotton Disease/train\",\n",
    "    shuffle = True,\n",
    "    image_size =(img_size,img_size),\n",
    "    batch_size = batches,\n",
    "    \n",
    ")\n",
    "\n",
    "testing_ds = tf.keras.preprocessing.image_dataset_from_directory(\n",
    "    \"../input/cotton-disease-dataset/Cotton Disease/test\",\n",
    "    shuffle = True,\n",
    "    image_size =(img_size,img_size),\n",
    "    batch_size = batches,\n",
    "    \n",
    ")\n",
    "\n",
    "valid_ds = tf.keras.preprocessing.image_dataset_from_directory(\n",
    "    \"../input/cotton-disease-dataset/Cotton Disease/val\",\n",
    "    shuffle = True,\n",
    "    image_size =(img_size,img_size),\n",
    "    batch_size = batches,\n",
    "    \n",
    ")\n",
    "\n"
   ]
  },
  {
   "cell_type": "code",
   "execution_count": 5,
   "id": "11d3a072",
   "metadata": {
    "execution": {
     "iopub.execute_input": "2022-05-12T03:03:09.473143Z",
     "iopub.status.busy": "2022-05-12T03:03:09.472485Z",
     "iopub.status.idle": "2022-05-12T03:03:09.487582Z",
     "shell.execute_reply": "2022-05-12T03:03:09.486831Z"
    },
    "papermill": {
     "duration": 0.060047,
     "end_time": "2022-05-12T03:03:09.490174",
     "exception": false,
     "start_time": "2022-05-12T03:03:09.430127",
     "status": "completed"
    },
    "tags": []
   },
   "outputs": [
    {
     "data": {
      "text/plain": [
       "(61, 8, 4)"
      ]
     },
     "execution_count": 5,
     "metadata": {},
     "output_type": "execute_result"
    }
   ],
   "source": [
    "len(training_ds),len(valid_ds),len(testing_ds)"
   ]
  },
  {
   "cell_type": "markdown",
   "id": "77c628fe",
   "metadata": {
    "papermill": {
     "duration": 0.039847,
     "end_time": "2022-05-12T03:03:09.578498",
     "exception": false,
     "start_time": "2022-05-12T03:03:09.538651",
     "status": "completed"
    },
    "tags": []
   },
   "source": [
    "### optimizing"
   ]
  },
  {
   "cell_type": "code",
   "execution_count": 6,
   "id": "30a58b0e",
   "metadata": {
    "execution": {
     "iopub.execute_input": "2022-05-12T03:03:09.674747Z",
     "iopub.status.busy": "2022-05-12T03:03:09.674396Z",
     "iopub.status.idle": "2022-05-12T03:03:09.688755Z",
     "shell.execute_reply": "2022-05-12T03:03:09.688095Z"
    },
    "papermill": {
     "duration": 0.06969,
     "end_time": "2022-05-12T03:03:09.690575",
     "exception": false,
     "start_time": "2022-05-12T03:03:09.620885",
     "status": "completed"
    },
    "tags": []
   },
   "outputs": [],
   "source": [
    "train_ds = training_ds.cache().shuffle(1000).prefetch(buffer_size = tf.data.experimental.AUTOTUNE)\n",
    "valid_ds = valid_ds.cache().shuffle(1000).prefetch(buffer_size = tf.data.experimental.AUTOTUNE)\n",
    "test_ds = testing_ds.cache().shuffle(1000).prefetch(buffer_size = tf.data.experimental.AUTOTUNE )"
   ]
  },
  {
   "cell_type": "markdown",
   "id": "ba21bc29",
   "metadata": {
    "papermill": {
     "duration": 0.024334,
     "end_time": "2022-05-12T03:03:09.739466",
     "exception": false,
     "start_time": "2022-05-12T03:03:09.715132",
     "status": "completed"
    },
    "tags": []
   },
   "source": [
    "### Data Augmentation"
   ]
  },
  {
   "cell_type": "code",
   "execution_count": 7,
   "id": "dd44026a",
   "metadata": {
    "execution": {
     "iopub.execute_input": "2022-05-12T03:03:09.790891Z",
     "iopub.status.busy": "2022-05-12T03:03:09.789482Z",
     "iopub.status.idle": "2022-05-12T03:03:09.824464Z",
     "shell.execute_reply": "2022-05-12T03:03:09.823836Z"
    },
    "papermill": {
     "duration": 0.062361,
     "end_time": "2022-05-12T03:03:09.826383",
     "exception": false,
     "start_time": "2022-05-12T03:03:09.764022",
     "status": "completed"
    },
    "tags": []
   },
   "outputs": [],
   "source": [
    "data_augmentations = tf.keras.Sequential([\n",
    "    layers.experimental.preprocessing.Resizing(img_size,img_size),\n",
    "    layers.experimental.preprocessing.Rescaling(1.0/img_size),\n",
    "    layers.experimental.preprocessing.RandomFlip(\"horizontal_and_vertical\"),\n",
    "    layers.experimental.preprocessing.RandomRotation(0.2)\n",
    "    \n",
    "])"
   ]
  },
  {
   "cell_type": "markdown",
   "id": "0368f920",
   "metadata": {
    "papermill": {
     "duration": 0.027091,
     "end_time": "2022-05-12T03:03:09.879519",
     "exception": false,
     "start_time": "2022-05-12T03:03:09.852428",
     "status": "completed"
    },
    "tags": []
   },
   "source": [
    "### Creating model"
   ]
  },
  {
   "cell_type": "code",
   "execution_count": 8,
   "id": "3d073cc0",
   "metadata": {
    "execution": {
     "iopub.execute_input": "2022-05-12T03:03:09.930754Z",
     "iopub.status.busy": "2022-05-12T03:03:09.930552Z",
     "iopub.status.idle": "2022-05-12T03:03:10.243992Z",
     "shell.execute_reply": "2022-05-12T03:03:10.243193Z"
    },
    "papermill": {
     "duration": 0.341263,
     "end_time": "2022-05-12T03:03:10.246233",
     "exception": false,
     "start_time": "2022-05-12T03:03:09.904970",
     "status": "completed"
    },
    "tags": []
   },
   "outputs": [],
   "source": [
    "inputshape = (batches ,img_size , img_size , 3)\n",
    "classes = 4\n",
    "\n",
    "plant_model = keras.models.Sequential([\n",
    "    data_augmentations,\n",
    "    layers.Conv2D(filters = 32 , kernel_size = (3 , 3),activation = 'relu' , input_shape = inputshape),\n",
    "    layers.MaxPooling2D(pool_size = (2,2)),\n",
    "    layers.Conv2D(filters = 64 , kernel_size = (3,3)  , activation ='relu'),\n",
    "    layers.MaxPooling2D(pool_size = (2,2)),\n",
    "    layers.Conv2D(filters = 128 , kernel_size = (3,3) , activation = 'relu'),\n",
    "    layers.MaxPooling2D(pool_size = (2,2)),\n",
    "    layers.Conv2D(filters = 256, kernel_size = (3,3) , activation = 'relu'),\n",
    "    layers.MaxPooling2D(pool_size = (2,2)),\n",
    "    \n",
    "    layers.Dropout(0.5),\n",
    "    layers.Flatten(),\n",
    "    layers.Dense(units = 128 , activation = 'relu'),\n",
    "    layers.Dropout(0.1),\n",
    "    layers.Dense(units = 128 , activation = 'relu'),\n",
    "    layers.Dropout(0.25),\n",
    "    layers.Dense(units = classes , activation = 'softmax'),\n",
    "    \n",
    "])\n",
    "\n",
    "plant_model.build(input_shape = inputshape)"
   ]
  },
  {
   "cell_type": "code",
   "execution_count": 9,
   "id": "327d4f0d",
   "metadata": {
    "execution": {
     "iopub.execute_input": "2022-05-12T03:03:10.296885Z",
     "iopub.status.busy": "2022-05-12T03:03:10.296428Z",
     "iopub.status.idle": "2022-05-12T03:03:10.310928Z",
     "shell.execute_reply": "2022-05-12T03:03:10.310210Z"
    },
    "papermill": {
     "duration": 0.041721,
     "end_time": "2022-05-12T03:03:10.312824",
     "exception": false,
     "start_time": "2022-05-12T03:03:10.271103",
     "status": "completed"
    },
    "tags": []
   },
   "outputs": [],
   "source": [
    "plant_model.compile(optimizer = 'adam', loss = tf.keras.losses.SparseCategoricalCrossentropy(from_logits=False) , metrics = ['accuracy'])"
   ]
  },
  {
   "cell_type": "markdown",
   "id": "44767229",
   "metadata": {
    "papermill": {
     "duration": 0.024341,
     "end_time": "2022-05-12T03:03:10.361542",
     "exception": false,
     "start_time": "2022-05-12T03:03:10.337201",
     "status": "completed"
    },
    "tags": []
   },
   "source": [
    "### Model params"
   ]
  },
  {
   "cell_type": "code",
   "execution_count": 10,
   "id": "5a88ffa5",
   "metadata": {
    "execution": {
     "iopub.execute_input": "2022-05-12T03:03:10.412147Z",
     "iopub.status.busy": "2022-05-12T03:03:10.411912Z",
     "iopub.status.idle": "2022-05-12T03:03:10.424673Z",
     "shell.execute_reply": "2022-05-12T03:03:10.423458Z"
    },
    "papermill": {
     "duration": 0.040594,
     "end_time": "2022-05-12T03:03:10.426570",
     "exception": false,
     "start_time": "2022-05-12T03:03:10.385976",
     "status": "completed"
    },
    "tags": []
   },
   "outputs": [
    {
     "name": "stdout",
     "output_type": "stream",
     "text": [
      "Model: \"sequential_1\"\n",
      "_________________________________________________________________\n",
      "Layer (type)                 Output Shape              Param #   \n",
      "=================================================================\n",
      "sequential (Sequential)      (32, 255, 255, 3)         0         \n",
      "_________________________________________________________________\n",
      "conv2d (Conv2D)              (32, 253, 253, 32)        896       \n",
      "_________________________________________________________________\n",
      "max_pooling2d (MaxPooling2D) (32, 126, 126, 32)        0         \n",
      "_________________________________________________________________\n",
      "conv2d_1 (Conv2D)            (32, 124, 124, 64)        18496     \n",
      "_________________________________________________________________\n",
      "max_pooling2d_1 (MaxPooling2 (32, 62, 62, 64)          0         \n",
      "_________________________________________________________________\n",
      "conv2d_2 (Conv2D)            (32, 60, 60, 128)         73856     \n",
      "_________________________________________________________________\n",
      "max_pooling2d_2 (MaxPooling2 (32, 30, 30, 128)         0         \n",
      "_________________________________________________________________\n",
      "conv2d_3 (Conv2D)            (32, 28, 28, 256)         295168    \n",
      "_________________________________________________________________\n",
      "max_pooling2d_3 (MaxPooling2 (32, 14, 14, 256)         0         \n",
      "_________________________________________________________________\n",
      "dropout (Dropout)            (32, 14, 14, 256)         0         \n",
      "_________________________________________________________________\n",
      "flatten (Flatten)            (32, 50176)               0         \n",
      "_________________________________________________________________\n",
      "dense (Dense)                (32, 128)                 6422656   \n",
      "_________________________________________________________________\n",
      "dropout_1 (Dropout)          (32, 128)                 0         \n",
      "_________________________________________________________________\n",
      "dense_1 (Dense)              (32, 128)                 16512     \n",
      "_________________________________________________________________\n",
      "dropout_2 (Dropout)          (32, 128)                 0         \n",
      "_________________________________________________________________\n",
      "dense_2 (Dense)              (32, 4)                   516       \n",
      "=================================================================\n",
      "Total params: 6,828,100\n",
      "Trainable params: 6,828,100\n",
      "Non-trainable params: 0\n",
      "_________________________________________________________________\n"
     ]
    }
   ],
   "source": [
    "plant_model.summary()"
   ]
  },
  {
   "cell_type": "markdown",
   "id": "d2e1e514",
   "metadata": {
    "papermill": {
     "duration": 0.024769,
     "end_time": "2022-05-12T03:03:10.476328",
     "exception": false,
     "start_time": "2022-05-12T03:03:10.451559",
     "status": "completed"
    },
    "tags": []
   },
   "source": [
    "### Training "
   ]
  },
  {
   "cell_type": "code",
   "execution_count": 11,
   "id": "c0b5b8ad",
   "metadata": {
    "execution": {
     "iopub.execute_input": "2022-05-12T03:03:10.527428Z",
     "iopub.status.busy": "2022-05-12T03:03:10.527217Z",
     "iopub.status.idle": "2022-05-12T03:03:10.530870Z",
     "shell.execute_reply": "2022-05-12T03:03:10.530010Z"
    },
    "papermill": {
     "duration": 0.031525,
     "end_time": "2022-05-12T03:03:10.532918",
     "exception": false,
     "start_time": "2022-05-12T03:03:10.501393",
     "status": "completed"
    },
    "tags": []
   },
   "outputs": [],
   "source": [
    "EPOCHS = 300"
   ]
  },
  {
   "cell_type": "code",
   "execution_count": 12,
   "id": "ad08f184",
   "metadata": {
    "execution": {
     "iopub.execute_input": "2022-05-12T03:03:10.583579Z",
     "iopub.status.busy": "2022-05-12T03:03:10.583335Z",
     "iopub.status.idle": "2022-05-12T03:03:10.586666Z",
     "shell.execute_reply": "2022-05-12T03:03:10.585925Z"
    },
    "papermill": {
     "duration": 0.030562,
     "end_time": "2022-05-12T03:03:10.588465",
     "exception": false,
     "start_time": "2022-05-12T03:03:10.557903",
     "status": "completed"
    },
    "tags": []
   },
   "outputs": [],
   "source": [
    "#saving models everytime we get a better val_accuracy\n",
    "checkpoint_filepath = 'weights.{epoch:02d}-{val_loss:.2f}.h5'"
   ]
  },
  {
   "cell_type": "code",
   "execution_count": 13,
   "id": "157df915",
   "metadata": {
    "execution": {
     "iopub.execute_input": "2022-05-12T03:03:10.639718Z",
     "iopub.status.busy": "2022-05-12T03:03:10.639121Z",
     "iopub.status.idle": "2022-05-12T03:03:10.644344Z",
     "shell.execute_reply": "2022-05-12T03:03:10.643631Z"
    },
    "papermill": {
     "duration": 0.032761,
     "end_time": "2022-05-12T03:03:10.646167",
     "exception": false,
     "start_time": "2022-05-12T03:03:10.613406",
     "status": "completed"
    },
    "tags": []
   },
   "outputs": [],
   "source": [
    "model_checkpoint_callback = keras.callbacks.ModelCheckpoint(\n",
    "    filepath=checkpoint_filepath,\n",
    "    monitor='val_accuracy',\n",
    "    mode='max',\n",
    "    save_best_only=True)"
   ]
  },
  {
   "cell_type": "code",
   "execution_count": 14,
   "id": "25358968",
   "metadata": {
    "execution": {
     "iopub.execute_input": "2022-05-12T03:03:10.697129Z",
     "iopub.status.busy": "2022-05-12T03:03:10.696940Z",
     "iopub.status.idle": "2022-05-12T03:18:04.540664Z",
     "shell.execute_reply": "2022-05-12T03:18:04.540007Z"
    },
    "papermill": {
     "duration": 893.871163,
     "end_time": "2022-05-12T03:18:04.542415",
     "exception": false,
     "start_time": "2022-05-12T03:03:10.671252",
     "status": "completed"
    },
    "tags": []
   },
   "outputs": [
    {
     "name": "stdout",
     "output_type": "stream",
     "text": [
      "Epoch 1/300\n"
     ]
    },
    {
     "name": "stderr",
     "output_type": "stream",
     "text": [
      "2022-05-12 03:03:11.690224: I tensorflow/compiler/mlir/mlir_graph_optimization_pass.cc:185] None of the MLIR Optimization Passes are enabled (registered 2)\n",
      "2022-05-12 03:03:20.887729: I tensorflow/stream_executor/cuda/cuda_dnn.cc:369] Loaded cuDNN version 8005\n"
     ]
    },
    {
     "name": "stdout",
     "output_type": "stream",
     "text": [
      "61/61 [==============================] - 21s 75ms/step - loss: 1.2727 - accuracy: 0.4311 - val_loss: 1.2039 - val_accuracy: 0.4980\n",
      "Epoch 2/300\n",
      "61/61 [==============================] - 3s 42ms/step - loss: 1.1040 - accuracy: 0.5085 - val_loss: 1.0190 - val_accuracy: 0.5652\n",
      "Epoch 3/300\n",
      "61/61 [==============================] - 3s 41ms/step - loss: 0.9735 - accuracy: 0.5925 - val_loss: 0.8496 - val_accuracy: 0.6522\n",
      "Epoch 4/300\n",
      "61/61 [==============================] - 3s 43ms/step - loss: 0.7877 - accuracy: 0.6802 - val_loss: 0.5490 - val_accuracy: 0.7984\n",
      "Epoch 5/300\n",
      "61/61 [==============================] - 3s 41ms/step - loss: 0.6671 - accuracy: 0.7324 - val_loss: 0.3921 - val_accuracy: 0.8379\n",
      "Epoch 6/300\n",
      "61/61 [==============================] - 3s 42ms/step - loss: 0.5817 - accuracy: 0.7678 - val_loss: 0.3681 - val_accuracy: 0.8617\n",
      "Epoch 7/300\n",
      "61/61 [==============================] - 3s 41ms/step - loss: 0.5440 - accuracy: 0.7673 - val_loss: 0.4971 - val_accuracy: 0.8024\n",
      "Epoch 8/300\n",
      "61/61 [==============================] - 3s 41ms/step - loss: 0.5185 - accuracy: 0.8073 - val_loss: 0.3012 - val_accuracy: 0.8933\n",
      "Epoch 9/300\n",
      "61/61 [==============================] - 3s 42ms/step - loss: 0.4187 - accuracy: 0.8273 - val_loss: 0.2448 - val_accuracy: 0.8972\n",
      "Epoch 10/300\n",
      "61/61 [==============================] - 3s 41ms/step - loss: 0.4032 - accuracy: 0.8421 - val_loss: 0.3092 - val_accuracy: 0.8854\n",
      "Epoch 11/300\n",
      "61/61 [==============================] - 2s 41ms/step - loss: 0.4218 - accuracy: 0.8421 - val_loss: 0.3345 - val_accuracy: 0.8933\n",
      "Epoch 12/300\n",
      "61/61 [==============================] - 2s 41ms/step - loss: 0.3454 - accuracy: 0.8713 - val_loss: 0.3487 - val_accuracy: 0.8775\n",
      "Epoch 13/300\n",
      "61/61 [==============================] - 3s 41ms/step - loss: 0.3374 - accuracy: 0.8672 - val_loss: 0.1885 - val_accuracy: 0.9170\n",
      "Epoch 14/300\n",
      "61/61 [==============================] - 3s 42ms/step - loss: 0.3481 - accuracy: 0.8698 - val_loss: 0.3073 - val_accuracy: 0.8893\n",
      "Epoch 15/300\n",
      "61/61 [==============================] - 3s 42ms/step - loss: 0.3133 - accuracy: 0.8790 - val_loss: 0.3042 - val_accuracy: 0.8617\n",
      "Epoch 16/300\n",
      "61/61 [==============================] - 3s 42ms/step - loss: 0.3029 - accuracy: 0.8924 - val_loss: 0.3390 - val_accuracy: 0.8656\n",
      "Epoch 17/300\n",
      "61/61 [==============================] - 2s 41ms/step - loss: 0.2932 - accuracy: 0.8913 - val_loss: 0.3595 - val_accuracy: 0.8735\n",
      "Epoch 18/300\n",
      "61/61 [==============================] - 2s 41ms/step - loss: 0.2705 - accuracy: 0.8965 - val_loss: 0.1445 - val_accuracy: 0.9328\n",
      "Epoch 19/300\n",
      "61/61 [==============================] - 2s 41ms/step - loss: 0.2634 - accuracy: 0.9036 - val_loss: 0.1750 - val_accuracy: 0.9289\n",
      "Epoch 20/300\n",
      "61/61 [==============================] - 3s 43ms/step - loss: 0.2871 - accuracy: 0.8934 - val_loss: 0.2111 - val_accuracy: 0.9170\n",
      "Epoch 21/300\n",
      "61/61 [==============================] - 3s 41ms/step - loss: 0.2940 - accuracy: 0.8924 - val_loss: 0.2303 - val_accuracy: 0.9249\n",
      "Epoch 22/300\n",
      "61/61 [==============================] - 2s 41ms/step - loss: 0.2554 - accuracy: 0.9036 - val_loss: 0.2163 - val_accuracy: 0.9170\n",
      "Epoch 23/300\n",
      "61/61 [==============================] - 2s 41ms/step - loss: 0.2490 - accuracy: 0.9036 - val_loss: 0.1658 - val_accuracy: 0.9368\n",
      "Epoch 24/300\n",
      "61/61 [==============================] - 3s 42ms/step - loss: 0.2485 - accuracy: 0.9083 - val_loss: 0.1676 - val_accuracy: 0.9328\n",
      "Epoch 25/300\n",
      "61/61 [==============================] - 3s 42ms/step - loss: 0.2686 - accuracy: 0.9057 - val_loss: 0.2347 - val_accuracy: 0.9130\n",
      "Epoch 26/300\n",
      "61/61 [==============================] - 2s 41ms/step - loss: 0.2234 - accuracy: 0.9149 - val_loss: 0.2550 - val_accuracy: 0.9051\n",
      "Epoch 27/300\n",
      "61/61 [==============================] - 3s 42ms/step - loss: 0.2293 - accuracy: 0.9200 - val_loss: 0.1820 - val_accuracy: 0.9407\n",
      "Epoch 28/300\n",
      "61/61 [==============================] - 2s 41ms/step - loss: 0.2271 - accuracy: 0.9129 - val_loss: 0.1701 - val_accuracy: 0.9407\n",
      "Epoch 29/300\n",
      "61/61 [==============================] - 2s 41ms/step - loss: 0.2053 - accuracy: 0.9252 - val_loss: 0.1644 - val_accuracy: 0.9368\n",
      "Epoch 30/300\n",
      "61/61 [==============================] - 3s 41ms/step - loss: 0.2428 - accuracy: 0.9108 - val_loss: 0.2391 - val_accuracy: 0.9091\n",
      "Epoch 31/300\n",
      "61/61 [==============================] - 3s 42ms/step - loss: 0.2226 - accuracy: 0.9170 - val_loss: 0.2444 - val_accuracy: 0.9091\n",
      "Epoch 32/300\n",
      "61/61 [==============================] - 2s 41ms/step - loss: 0.2003 - accuracy: 0.9236 - val_loss: 0.1708 - val_accuracy: 0.9526\n",
      "Epoch 33/300\n",
      "61/61 [==============================] - 3s 42ms/step - loss: 0.2137 - accuracy: 0.9200 - val_loss: 0.1387 - val_accuracy: 0.9526\n",
      "Epoch 34/300\n",
      "61/61 [==============================] - 3s 42ms/step - loss: 0.1636 - accuracy: 0.9395 - val_loss: 0.1053 - val_accuracy: 0.9644\n",
      "Epoch 35/300\n",
      "61/61 [==============================] - 3s 42ms/step - loss: 0.1864 - accuracy: 0.9293 - val_loss: 0.1118 - val_accuracy: 0.9644\n",
      "Epoch 36/300\n",
      "61/61 [==============================] - 3s 41ms/step - loss: 0.1759 - accuracy: 0.9364 - val_loss: 0.1187 - val_accuracy: 0.9486\n",
      "Epoch 37/300\n",
      "61/61 [==============================] - 3s 41ms/step - loss: 0.2220 - accuracy: 0.9180 - val_loss: 0.1380 - val_accuracy: 0.9486\n",
      "Epoch 38/300\n",
      "61/61 [==============================] - 2s 41ms/step - loss: 0.1945 - accuracy: 0.9272 - val_loss: 0.1151 - val_accuracy: 0.9565\n",
      "Epoch 39/300\n",
      "61/61 [==============================] - 2s 41ms/step - loss: 0.1624 - accuracy: 0.9405 - val_loss: 0.1789 - val_accuracy: 0.9249\n",
      "Epoch 40/300\n",
      "61/61 [==============================] - 2s 41ms/step - loss: 0.1841 - accuracy: 0.9323 - val_loss: 0.1820 - val_accuracy: 0.9328\n",
      "Epoch 41/300\n",
      "61/61 [==============================] - 3s 42ms/step - loss: 0.1748 - accuracy: 0.9359 - val_loss: 0.1037 - val_accuracy: 0.9644\n",
      "Epoch 42/300\n",
      "61/61 [==============================] - 2s 41ms/step - loss: 0.1653 - accuracy: 0.9421 - val_loss: 0.0977 - val_accuracy: 0.9684\n",
      "Epoch 43/300\n",
      "61/61 [==============================] - 3s 41ms/step - loss: 0.1607 - accuracy: 0.9436 - val_loss: 0.1097 - val_accuracy: 0.9684\n",
      "Epoch 44/300\n",
      "61/61 [==============================] - 3s 41ms/step - loss: 0.1444 - accuracy: 0.9487 - val_loss: 0.1011 - val_accuracy: 0.9644\n",
      "Epoch 45/300\n",
      "61/61 [==============================] - 3s 44ms/step - loss: 0.1330 - accuracy: 0.9508 - val_loss: 0.1176 - val_accuracy: 0.9565\n",
      "Epoch 46/300\n",
      "61/61 [==============================] - 3s 43ms/step - loss: 0.1376 - accuracy: 0.9528 - val_loss: 0.1183 - val_accuracy: 0.9605\n",
      "Epoch 47/300\n",
      "61/61 [==============================] - 2s 41ms/step - loss: 0.1586 - accuracy: 0.9441 - val_loss: 0.1760 - val_accuracy: 0.9289\n",
      "Epoch 48/300\n",
      "61/61 [==============================] - 2s 41ms/step - loss: 0.1414 - accuracy: 0.9487 - val_loss: 0.2102 - val_accuracy: 0.9249\n",
      "Epoch 49/300\n",
      "61/61 [==============================] - 3s 42ms/step - loss: 0.1635 - accuracy: 0.9457 - val_loss: 0.0878 - val_accuracy: 0.9723\n",
      "Epoch 50/300\n",
      "61/61 [==============================] - 2s 41ms/step - loss: 0.1665 - accuracy: 0.9405 - val_loss: 0.1192 - val_accuracy: 0.9565\n",
      "Epoch 51/300\n",
      "61/61 [==============================] - 2s 41ms/step - loss: 0.1508 - accuracy: 0.9441 - val_loss: 0.1004 - val_accuracy: 0.9565\n",
      "Epoch 52/300\n",
      "61/61 [==============================] - 2s 41ms/step - loss: 0.1555 - accuracy: 0.9400 - val_loss: 0.0832 - val_accuracy: 0.9763\n",
      "Epoch 53/300\n",
      "61/61 [==============================] - 3s 41ms/step - loss: 0.1258 - accuracy: 0.9564 - val_loss: 0.1359 - val_accuracy: 0.9526\n",
      "Epoch 54/300\n",
      "61/61 [==============================] - 2s 41ms/step - loss: 0.1453 - accuracy: 0.9462 - val_loss: 0.0897 - val_accuracy: 0.9605\n",
      "Epoch 55/300\n",
      "61/61 [==============================] - 3s 41ms/step - loss: 0.1315 - accuracy: 0.9503 - val_loss: 0.0775 - val_accuracy: 0.9684\n",
      "Epoch 56/300\n",
      "61/61 [==============================] - 2s 41ms/step - loss: 0.1236 - accuracy: 0.9559 - val_loss: 0.1005 - val_accuracy: 0.9605\n",
      "Epoch 57/300\n",
      "61/61 [==============================] - 3s 42ms/step - loss: 0.1416 - accuracy: 0.9477 - val_loss: 0.1458 - val_accuracy: 0.9526\n",
      "Epoch 58/300\n",
      "61/61 [==============================] - 3s 42ms/step - loss: 0.2367 - accuracy: 0.9231 - val_loss: 0.2401 - val_accuracy: 0.9368\n",
      "Epoch 59/300\n",
      "61/61 [==============================] - 2s 41ms/step - loss: 0.1608 - accuracy: 0.9431 - val_loss: 0.0902 - val_accuracy: 0.9684\n",
      "Epoch 60/300\n",
      "61/61 [==============================] - 3s 42ms/step - loss: 0.1376 - accuracy: 0.9513 - val_loss: 0.0606 - val_accuracy: 0.9684\n",
      "Epoch 61/300\n",
      "61/61 [==============================] - 2s 41ms/step - loss: 0.1067 - accuracy: 0.9636 - val_loss: 0.0932 - val_accuracy: 0.9723\n",
      "Epoch 62/300\n",
      "61/61 [==============================] - 2s 41ms/step - loss: 0.1256 - accuracy: 0.9559 - val_loss: 0.1242 - val_accuracy: 0.9526\n",
      "Epoch 63/300\n",
      "61/61 [==============================] - 2s 41ms/step - loss: 0.1202 - accuracy: 0.9559 - val_loss: 0.0629 - val_accuracy: 0.9802\n",
      "Epoch 64/300\n",
      "61/61 [==============================] - 3s 42ms/step - loss: 0.1109 - accuracy: 0.9616 - val_loss: 0.0744 - val_accuracy: 0.9763\n",
      "Epoch 65/300\n",
      "61/61 [==============================] - 3s 42ms/step - loss: 0.1209 - accuracy: 0.9575 - val_loss: 0.1474 - val_accuracy: 0.9447\n",
      "Epoch 66/300\n",
      "61/61 [==============================] - 3s 43ms/step - loss: 0.1203 - accuracy: 0.9534 - val_loss: 0.1096 - val_accuracy: 0.9565\n",
      "Epoch 67/300\n",
      "61/61 [==============================] - 2s 41ms/step - loss: 0.1043 - accuracy: 0.9651 - val_loss: 0.1313 - val_accuracy: 0.9605\n",
      "Epoch 68/300\n",
      "61/61 [==============================] - 2s 41ms/step - loss: 0.1097 - accuracy: 0.9595 - val_loss: 0.1005 - val_accuracy: 0.9605\n",
      "Epoch 69/300\n",
      "61/61 [==============================] - 3s 42ms/step - loss: 0.1345 - accuracy: 0.9564 - val_loss: 0.0922 - val_accuracy: 0.9802\n",
      "Epoch 70/300\n",
      "61/61 [==============================] - 2s 41ms/step - loss: 0.1210 - accuracy: 0.9595 - val_loss: 0.1710 - val_accuracy: 0.9486\n",
      "Epoch 71/300\n",
      "61/61 [==============================] - 2s 41ms/step - loss: 0.1218 - accuracy: 0.9585 - val_loss: 0.0608 - val_accuracy: 0.9763\n",
      "Epoch 72/300\n",
      "61/61 [==============================] - 2s 41ms/step - loss: 0.1032 - accuracy: 0.9600 - val_loss: 0.1104 - val_accuracy: 0.9605\n",
      "Epoch 73/300\n",
      "61/61 [==============================] - 2s 41ms/step - loss: 0.0963 - accuracy: 0.9631 - val_loss: 0.0591 - val_accuracy: 0.9842\n",
      "Epoch 74/300\n",
      "61/61 [==============================] - 3s 42ms/step - loss: 0.0745 - accuracy: 0.9759 - val_loss: 0.0507 - val_accuracy: 0.9881\n",
      "Epoch 75/300\n",
      "61/61 [==============================] - 2s 41ms/step - loss: 0.1025 - accuracy: 0.9662 - val_loss: 0.1549 - val_accuracy: 0.9684\n",
      "Epoch 76/300\n",
      "61/61 [==============================] - 3s 43ms/step - loss: 0.1472 - accuracy: 0.9493 - val_loss: 0.0904 - val_accuracy: 0.9763\n",
      "Epoch 77/300\n",
      "61/61 [==============================] - 2s 41ms/step - loss: 0.0968 - accuracy: 0.9636 - val_loss: 0.0981 - val_accuracy: 0.9684\n",
      "Epoch 78/300\n",
      "61/61 [==============================] - 2s 41ms/step - loss: 0.0886 - accuracy: 0.9672 - val_loss: 0.1365 - val_accuracy: 0.9447\n",
      "Epoch 79/300\n",
      "61/61 [==============================] - 3s 41ms/step - loss: 0.0998 - accuracy: 0.9631 - val_loss: 0.0860 - val_accuracy: 0.9763\n",
      "Epoch 80/300\n",
      "61/61 [==============================] - 2s 41ms/step - loss: 0.0866 - accuracy: 0.9657 - val_loss: 0.0995 - val_accuracy: 0.9605\n",
      "Epoch 81/300\n",
      "61/61 [==============================] - 2s 41ms/step - loss: 0.0942 - accuracy: 0.9728 - val_loss: 0.0742 - val_accuracy: 0.9644\n",
      "Epoch 82/300\n",
      "61/61 [==============================] - 2s 41ms/step - loss: 0.1206 - accuracy: 0.9580 - val_loss: 0.1481 - val_accuracy: 0.9447\n",
      "Epoch 83/300\n",
      "61/61 [==============================] - 3s 41ms/step - loss: 0.0866 - accuracy: 0.9667 - val_loss: 0.1120 - val_accuracy: 0.9644\n",
      "Epoch 84/300\n",
      "61/61 [==============================] - 3s 43ms/step - loss: 0.0894 - accuracy: 0.9662 - val_loss: 0.1912 - val_accuracy: 0.9486\n",
      "Epoch 85/300\n",
      "61/61 [==============================] - 3s 41ms/step - loss: 0.0923 - accuracy: 0.9677 - val_loss: 0.1224 - val_accuracy: 0.9526\n",
      "Epoch 86/300\n",
      "61/61 [==============================] - 2s 41ms/step - loss: 0.0767 - accuracy: 0.9733 - val_loss: 0.0747 - val_accuracy: 0.9723\n",
      "Epoch 87/300\n",
      "61/61 [==============================] - 2s 41ms/step - loss: 0.0949 - accuracy: 0.9651 - val_loss: 0.0738 - val_accuracy: 0.9763\n",
      "Epoch 88/300\n",
      "61/61 [==============================] - 3s 46ms/step - loss: 0.1327 - accuracy: 0.9508 - val_loss: 0.0969 - val_accuracy: 0.9684\n",
      "Epoch 89/300\n",
      "61/61 [==============================] - 2s 41ms/step - loss: 0.0993 - accuracy: 0.9621 - val_loss: 0.0811 - val_accuracy: 0.9684\n",
      "Epoch 90/300\n",
      "61/61 [==============================] - 2s 41ms/step - loss: 0.0810 - accuracy: 0.9733 - val_loss: 0.0787 - val_accuracy: 0.9684\n",
      "Epoch 91/300\n",
      "61/61 [==============================] - 3s 41ms/step - loss: 0.0761 - accuracy: 0.9713 - val_loss: 0.0935 - val_accuracy: 0.9605\n",
      "Epoch 92/300\n",
      "61/61 [==============================] - 2s 41ms/step - loss: 0.0912 - accuracy: 0.9672 - val_loss: 0.1105 - val_accuracy: 0.9605\n",
      "Epoch 93/300\n",
      "61/61 [==============================] - 2s 41ms/step - loss: 0.0813 - accuracy: 0.9692 - val_loss: 0.0543 - val_accuracy: 0.9921\n",
      "Epoch 94/300\n",
      "61/61 [==============================] - 3s 41ms/step - loss: 0.0613 - accuracy: 0.9780 - val_loss: 0.0835 - val_accuracy: 0.9763\n",
      "Epoch 95/300\n",
      "61/61 [==============================] - 3s 44ms/step - loss: 0.0884 - accuracy: 0.9703 - val_loss: 0.0825 - val_accuracy: 0.9763\n",
      "Epoch 96/300\n",
      "61/61 [==============================] - 2s 41ms/step - loss: 0.0950 - accuracy: 0.9682 - val_loss: 0.1502 - val_accuracy: 0.9684\n",
      "Epoch 97/300\n",
      "61/61 [==============================] - 3s 42ms/step - loss: 0.1076 - accuracy: 0.9651 - val_loss: 0.0815 - val_accuracy: 0.9723\n",
      "Epoch 98/300\n",
      "61/61 [==============================] - 2s 41ms/step - loss: 0.0624 - accuracy: 0.9795 - val_loss: 0.0738 - val_accuracy: 0.9723\n",
      "Epoch 99/300\n",
      "61/61 [==============================] - 2s 41ms/step - loss: 0.0791 - accuracy: 0.9739 - val_loss: 0.0757 - val_accuracy: 0.9881\n",
      "Epoch 100/300\n",
      "61/61 [==============================] - 2s 41ms/step - loss: 0.0567 - accuracy: 0.9785 - val_loss: 0.0844 - val_accuracy: 0.9842\n",
      "Epoch 101/300\n",
      "61/61 [==============================] - 3s 42ms/step - loss: 0.0756 - accuracy: 0.9739 - val_loss: 0.0888 - val_accuracy: 0.9763\n",
      "Epoch 102/300\n",
      "61/61 [==============================] - 2s 41ms/step - loss: 0.0949 - accuracy: 0.9692 - val_loss: 0.1361 - val_accuracy: 0.9565\n",
      "Epoch 103/300\n",
      "61/61 [==============================] - 2s 41ms/step - loss: 0.0643 - accuracy: 0.9780 - val_loss: 0.0816 - val_accuracy: 0.9881\n",
      "Epoch 104/300\n",
      "61/61 [==============================] - 3s 41ms/step - loss: 0.0694 - accuracy: 0.9728 - val_loss: 0.0797 - val_accuracy: 0.9802\n",
      "Epoch 105/300\n",
      "61/61 [==============================] - 3s 42ms/step - loss: 0.0778 - accuracy: 0.9718 - val_loss: 0.0992 - val_accuracy: 0.9605\n",
      "Epoch 106/300\n",
      "61/61 [==============================] - 3s 43ms/step - loss: 0.0771 - accuracy: 0.9759 - val_loss: 0.0566 - val_accuracy: 0.9881\n",
      "Epoch 107/300\n",
      "61/61 [==============================] - 2s 41ms/step - loss: 0.0922 - accuracy: 0.9657 - val_loss: 0.0729 - val_accuracy: 0.9723\n",
      "Epoch 108/300\n",
      "61/61 [==============================] - 3s 42ms/step - loss: 0.0581 - accuracy: 0.9805 - val_loss: 0.1129 - val_accuracy: 0.9684\n",
      "Epoch 109/300\n",
      "61/61 [==============================] - 3s 42ms/step - loss: 0.0677 - accuracy: 0.9754 - val_loss: 0.0658 - val_accuracy: 0.9802\n",
      "Epoch 110/300\n",
      "61/61 [==============================] - 2s 41ms/step - loss: 0.0490 - accuracy: 0.9846 - val_loss: 0.1750 - val_accuracy: 0.9565\n",
      "Epoch 111/300\n",
      "61/61 [==============================] - 2s 41ms/step - loss: 0.1007 - accuracy: 0.9610 - val_loss: 0.0749 - val_accuracy: 0.9723\n",
      "Epoch 112/300\n",
      "61/61 [==============================] - 2s 41ms/step - loss: 0.0811 - accuracy: 0.9703 - val_loss: 0.0766 - val_accuracy: 0.9842\n",
      "Epoch 113/300\n",
      "61/61 [==============================] - 3s 41ms/step - loss: 0.0713 - accuracy: 0.9749 - val_loss: 0.1021 - val_accuracy: 0.9644\n",
      "Epoch 114/300\n",
      "61/61 [==============================] - 2s 41ms/step - loss: 0.0725 - accuracy: 0.9780 - val_loss: 0.1495 - val_accuracy: 0.9605\n",
      "Epoch 115/300\n",
      "61/61 [==============================] - 2s 41ms/step - loss: 0.0731 - accuracy: 0.9728 - val_loss: 0.1048 - val_accuracy: 0.9644\n",
      "Epoch 116/300\n",
      "61/61 [==============================] - 2s 41ms/step - loss: 0.0555 - accuracy: 0.9821 - val_loss: 0.0551 - val_accuracy: 0.9802\n",
      "Epoch 117/300\n",
      "61/61 [==============================] - 3s 42ms/step - loss: 0.0848 - accuracy: 0.9733 - val_loss: 0.0599 - val_accuracy: 0.9842\n",
      "Epoch 118/300\n",
      "61/61 [==============================] - 3s 42ms/step - loss: 0.0735 - accuracy: 0.9749 - val_loss: 0.0606 - val_accuracy: 0.9842\n",
      "Epoch 119/300\n",
      "61/61 [==============================] - 2s 41ms/step - loss: 0.0810 - accuracy: 0.9708 - val_loss: 0.0726 - val_accuracy: 0.9802\n",
      "Epoch 120/300\n",
      "61/61 [==============================] - 3s 42ms/step - loss: 0.0837 - accuracy: 0.9687 - val_loss: 0.1481 - val_accuracy: 0.9526\n",
      "Epoch 121/300\n",
      "61/61 [==============================] - 3s 41ms/step - loss: 0.0574 - accuracy: 0.9764 - val_loss: 0.0552 - val_accuracy: 0.9881\n",
      "Epoch 122/300\n",
      "61/61 [==============================] - 2s 41ms/step - loss: 0.0516 - accuracy: 0.9826 - val_loss: 0.0499 - val_accuracy: 0.9842\n",
      "Epoch 123/300\n",
      "61/61 [==============================] - 2s 41ms/step - loss: 0.0605 - accuracy: 0.9826 - val_loss: 0.1702 - val_accuracy: 0.9368\n",
      "Epoch 124/300\n",
      "61/61 [==============================] - 2s 41ms/step - loss: 0.0674 - accuracy: 0.9739 - val_loss: 0.1075 - val_accuracy: 0.9763\n",
      "Epoch 125/300\n",
      "61/61 [==============================] - 3s 42ms/step - loss: 0.0882 - accuracy: 0.9682 - val_loss: 1.3682 - val_accuracy: 0.7945\n",
      "Epoch 126/300\n",
      "61/61 [==============================] - 2s 41ms/step - loss: 0.1541 - accuracy: 0.9534 - val_loss: 0.0603 - val_accuracy: 0.9842\n",
      "Epoch 127/300\n",
      "61/61 [==============================] - 2s 41ms/step - loss: 0.0922 - accuracy: 0.9739 - val_loss: 0.0828 - val_accuracy: 0.9644\n",
      "Epoch 128/300\n",
      "61/61 [==============================] - 2s 41ms/step - loss: 0.0710 - accuracy: 0.9723 - val_loss: 0.0574 - val_accuracy: 0.9802\n",
      "Epoch 129/300\n",
      "61/61 [==============================] - 3s 42ms/step - loss: 0.0618 - accuracy: 0.9780 - val_loss: 0.1127 - val_accuracy: 0.9565\n",
      "Epoch 130/300\n",
      "61/61 [==============================] - 2s 41ms/step - loss: 0.0746 - accuracy: 0.9733 - val_loss: 0.0965 - val_accuracy: 0.9526\n",
      "Epoch 131/300\n",
      "61/61 [==============================] - 3s 42ms/step - loss: 0.0500 - accuracy: 0.9815 - val_loss: 0.0429 - val_accuracy: 0.9842\n",
      "Epoch 132/300\n",
      "61/61 [==============================] - 3s 42ms/step - loss: 0.0563 - accuracy: 0.9810 - val_loss: 0.0933 - val_accuracy: 0.9644\n",
      "Epoch 133/300\n",
      "61/61 [==============================] - 2s 41ms/step - loss: 0.0575 - accuracy: 0.9805 - val_loss: 0.0767 - val_accuracy: 0.9763\n",
      "Epoch 134/300\n",
      "61/61 [==============================] - 2s 41ms/step - loss: 0.0699 - accuracy: 0.9764 - val_loss: 0.0612 - val_accuracy: 0.9842\n",
      "Epoch 135/300\n",
      "61/61 [==============================] - 3s 42ms/step - loss: 0.0573 - accuracy: 0.9780 - val_loss: 0.0719 - val_accuracy: 0.9842\n",
      "Epoch 136/300\n",
      "61/61 [==============================] - 2s 41ms/step - loss: 0.0510 - accuracy: 0.9810 - val_loss: 0.0461 - val_accuracy: 0.9842\n",
      "Epoch 137/300\n",
      "61/61 [==============================] - 2s 41ms/step - loss: 0.0594 - accuracy: 0.9826 - val_loss: 0.0647 - val_accuracy: 0.9881\n",
      "Epoch 138/300\n",
      "61/61 [==============================] - 3s 42ms/step - loss: 0.0340 - accuracy: 0.9882 - val_loss: 0.0577 - val_accuracy: 0.9881\n",
      "Epoch 139/300\n",
      "61/61 [==============================] - 3s 42ms/step - loss: 0.0936 - accuracy: 0.9662 - val_loss: 0.0977 - val_accuracy: 0.9723\n",
      "Epoch 140/300\n",
      "61/61 [==============================] - 2s 41ms/step - loss: 0.0466 - accuracy: 0.9815 - val_loss: 0.0637 - val_accuracy: 0.9802\n",
      "Epoch 141/300\n",
      "61/61 [==============================] - 3s 42ms/step - loss: 0.0642 - accuracy: 0.9815 - val_loss: 0.0680 - val_accuracy: 0.9723\n",
      "Epoch 142/300\n",
      "61/61 [==============================] - 2s 41ms/step - loss: 0.0483 - accuracy: 0.9831 - val_loss: 0.1123 - val_accuracy: 0.9723\n",
      "Epoch 143/300\n",
      "61/61 [==============================] - 3s 41ms/step - loss: 0.0427 - accuracy: 0.9836 - val_loss: 0.1016 - val_accuracy: 0.9723\n",
      "Epoch 144/300\n",
      "61/61 [==============================] - 2s 41ms/step - loss: 0.0475 - accuracy: 0.9826 - val_loss: 0.2165 - val_accuracy: 0.9565\n",
      "Epoch 145/300\n",
      "61/61 [==============================] - 2s 41ms/step - loss: 0.0717 - accuracy: 0.9739 - val_loss: 0.1369 - val_accuracy: 0.9684\n",
      "Epoch 146/300\n",
      "61/61 [==============================] - 2s 41ms/step - loss: 0.0904 - accuracy: 0.9698 - val_loss: 0.2266 - val_accuracy: 0.9407\n",
      "Epoch 147/300\n",
      "61/61 [==============================] - 3s 42ms/step - loss: 0.0595 - accuracy: 0.9815 - val_loss: 0.1137 - val_accuracy: 0.9605\n",
      "Epoch 148/300\n",
      "61/61 [==============================] - 2s 41ms/step - loss: 0.0559 - accuracy: 0.9780 - val_loss: 0.0615 - val_accuracy: 0.9723\n",
      "Epoch 149/300\n",
      "61/61 [==============================] - 3s 42ms/step - loss: 0.0455 - accuracy: 0.9810 - val_loss: 0.1091 - val_accuracy: 0.9486\n",
      "Epoch 150/300\n",
      "61/61 [==============================] - 3s 41ms/step - loss: 0.0410 - accuracy: 0.9867 - val_loss: 0.0372 - val_accuracy: 0.9842\n",
      "Epoch 151/300\n",
      "61/61 [==============================] - 3s 41ms/step - loss: 0.0533 - accuracy: 0.9826 - val_loss: 0.0505 - val_accuracy: 0.9881\n",
      "Epoch 152/300\n",
      "61/61 [==============================] - 3s 41ms/step - loss: 0.0479 - accuracy: 0.9815 - val_loss: 0.0417 - val_accuracy: 0.9881\n",
      "Epoch 153/300\n",
      "61/61 [==============================] - 2s 41ms/step - loss: 0.0543 - accuracy: 0.9790 - val_loss: 0.1017 - val_accuracy: 0.9684\n",
      "Epoch 154/300\n",
      "61/61 [==============================] - 3s 42ms/step - loss: 0.0420 - accuracy: 0.9851 - val_loss: 0.0781 - val_accuracy: 0.9723\n",
      "Epoch 155/300\n",
      "61/61 [==============================] - 2s 41ms/step - loss: 0.0720 - accuracy: 0.9785 - val_loss: 0.0836 - val_accuracy: 0.9684\n",
      "Epoch 156/300\n",
      "61/61 [==============================] - 2s 41ms/step - loss: 0.0460 - accuracy: 0.9851 - val_loss: 0.0452 - val_accuracy: 0.9842\n",
      "Epoch 157/300\n",
      "61/61 [==============================] - 3s 42ms/step - loss: 0.0469 - accuracy: 0.9831 - val_loss: 0.0527 - val_accuracy: 0.9802\n",
      "Epoch 158/300\n",
      "61/61 [==============================] - 2s 41ms/step - loss: 0.0877 - accuracy: 0.9692 - val_loss: 0.0929 - val_accuracy: 0.9644\n",
      "Epoch 159/300\n",
      "61/61 [==============================] - 3s 41ms/step - loss: 0.0551 - accuracy: 0.9780 - val_loss: 0.1013 - val_accuracy: 0.9763\n",
      "Epoch 160/300\n",
      "61/61 [==============================] - 3s 43ms/step - loss: 0.0474 - accuracy: 0.9846 - val_loss: 0.0955 - val_accuracy: 0.9802\n",
      "Epoch 161/300\n",
      "61/61 [==============================] - 3s 41ms/step - loss: 0.0431 - accuracy: 0.9856 - val_loss: 0.0457 - val_accuracy: 0.9802\n",
      "Epoch 162/300\n",
      "61/61 [==============================] - 3s 42ms/step - loss: 0.0517 - accuracy: 0.9831 - val_loss: 0.0692 - val_accuracy: 0.9763\n",
      "Epoch 163/300\n",
      "61/61 [==============================] - 2s 41ms/step - loss: 0.0612 - accuracy: 0.9821 - val_loss: 0.0991 - val_accuracy: 0.9644\n",
      "Epoch 164/300\n",
      "61/61 [==============================] - 3s 42ms/step - loss: 0.0574 - accuracy: 0.9805 - val_loss: 0.0869 - val_accuracy: 0.9684\n",
      "Epoch 165/300\n",
      "61/61 [==============================] - 2s 41ms/step - loss: 0.0492 - accuracy: 0.9867 - val_loss: 0.0470 - val_accuracy: 0.9842\n",
      "Epoch 166/300\n",
      "61/61 [==============================] - 3s 41ms/step - loss: 0.0403 - accuracy: 0.9903 - val_loss: 0.0748 - val_accuracy: 0.9644\n",
      "Epoch 167/300\n",
      "61/61 [==============================] - 2s 41ms/step - loss: 0.0679 - accuracy: 0.9769 - val_loss: 0.0949 - val_accuracy: 0.9723\n",
      "Epoch 168/300\n",
      "61/61 [==============================] - 3s 42ms/step - loss: 0.0610 - accuracy: 0.9800 - val_loss: 0.0654 - val_accuracy: 0.9802\n",
      "Epoch 169/300\n",
      "61/61 [==============================] - 2s 41ms/step - loss: 0.0342 - accuracy: 0.9867 - val_loss: 0.0747 - val_accuracy: 0.9763\n",
      "Epoch 170/300\n",
      "61/61 [==============================] - 3s 41ms/step - loss: 0.0605 - accuracy: 0.9759 - val_loss: 0.0770 - val_accuracy: 0.9723\n",
      "Epoch 171/300\n",
      "61/61 [==============================] - 3s 42ms/step - loss: 0.0683 - accuracy: 0.9759 - val_loss: 0.0547 - val_accuracy: 0.9881\n",
      "Epoch 172/300\n",
      "61/61 [==============================] - 3s 41ms/step - loss: 0.0458 - accuracy: 0.9872 - val_loss: 0.0501 - val_accuracy: 0.9802\n",
      "Epoch 173/300\n",
      "61/61 [==============================] - 3s 42ms/step - loss: 0.0518 - accuracy: 0.9805 - val_loss: 0.1137 - val_accuracy: 0.9605\n",
      "Epoch 174/300\n",
      "61/61 [==============================] - 2s 41ms/step - loss: 0.0602 - accuracy: 0.9800 - val_loss: 0.1008 - val_accuracy: 0.9644\n",
      "Epoch 175/300\n",
      "61/61 [==============================] - 3s 41ms/step - loss: 0.0632 - accuracy: 0.9826 - val_loss: 0.1073 - val_accuracy: 0.9565\n",
      "Epoch 176/300\n",
      "61/61 [==============================] - 2s 41ms/step - loss: 0.0798 - accuracy: 0.9739 - val_loss: 0.1122 - val_accuracy: 0.9565\n",
      "Epoch 177/300\n",
      "61/61 [==============================] - 2s 41ms/step - loss: 0.0479 - accuracy: 0.9846 - val_loss: 0.0584 - val_accuracy: 0.9881\n",
      "Epoch 178/300\n",
      "61/61 [==============================] - 2s 41ms/step - loss: 0.0575 - accuracy: 0.9836 - val_loss: 0.1076 - val_accuracy: 0.9723\n",
      "Epoch 179/300\n",
      "61/61 [==============================] - 3s 41ms/step - loss: 0.0853 - accuracy: 0.9744 - val_loss: 0.0941 - val_accuracy: 0.9684\n",
      "Epoch 180/300\n",
      "61/61 [==============================] - 2s 41ms/step - loss: 0.0232 - accuracy: 0.9908 - val_loss: 0.1082 - val_accuracy: 0.9684\n",
      "Epoch 181/300\n",
      "61/61 [==============================] - 3s 41ms/step - loss: 0.0925 - accuracy: 0.9692 - val_loss: 0.1022 - val_accuracy: 0.9526\n",
      "Epoch 182/300\n",
      "61/61 [==============================] - 3s 42ms/step - loss: 0.0466 - accuracy: 0.9826 - val_loss: 0.0306 - val_accuracy: 0.9881\n",
      "Epoch 183/300\n",
      "61/61 [==============================] - 2s 41ms/step - loss: 0.0440 - accuracy: 0.9851 - val_loss: 0.0408 - val_accuracy: 0.9802\n",
      "Epoch 184/300\n",
      "61/61 [==============================] - 3s 42ms/step - loss: 0.0524 - accuracy: 0.9790 - val_loss: 0.1034 - val_accuracy: 0.9802\n",
      "Epoch 185/300\n",
      "61/61 [==============================] - 2s 41ms/step - loss: 0.0409 - accuracy: 0.9851 - val_loss: 0.0772 - val_accuracy: 0.9802\n",
      "Epoch 186/300\n",
      "61/61 [==============================] - 2s 41ms/step - loss: 0.0257 - accuracy: 0.9923 - val_loss: 0.0267 - val_accuracy: 0.9881\n",
      "Epoch 187/300\n",
      "61/61 [==============================] - 3s 41ms/step - loss: 0.0539 - accuracy: 0.9856 - val_loss: 0.1019 - val_accuracy: 0.9684\n",
      "Epoch 188/300\n",
      "61/61 [==============================] - 2s 41ms/step - loss: 0.0463 - accuracy: 0.9851 - val_loss: 0.0659 - val_accuracy: 0.9802\n",
      "Epoch 189/300\n",
      "61/61 [==============================] - 2s 41ms/step - loss: 0.0551 - accuracy: 0.9815 - val_loss: 0.0528 - val_accuracy: 0.9842\n",
      "Epoch 190/300\n",
      "61/61 [==============================] - 2s 41ms/step - loss: 0.0370 - accuracy: 0.9867 - val_loss: 0.0485 - val_accuracy: 0.9921\n",
      "Epoch 191/300\n",
      "61/61 [==============================] - 3s 41ms/step - loss: 0.0608 - accuracy: 0.9831 - val_loss: 0.1393 - val_accuracy: 0.9565\n",
      "Epoch 192/300\n",
      "61/61 [==============================] - 2s 41ms/step - loss: 0.0566 - accuracy: 0.9800 - val_loss: 0.0672 - val_accuracy: 0.9881\n",
      "Epoch 193/300\n",
      "61/61 [==============================] - 3s 42ms/step - loss: 0.0566 - accuracy: 0.9790 - val_loss: 0.0461 - val_accuracy: 0.9881\n",
      "Epoch 194/300\n",
      "61/61 [==============================] - 3s 42ms/step - loss: 0.0328 - accuracy: 0.9897 - val_loss: 0.0303 - val_accuracy: 0.9960\n",
      "Epoch 195/300\n",
      "61/61 [==============================] - 3s 41ms/step - loss: 0.0464 - accuracy: 0.9856 - val_loss: 0.1424 - val_accuracy: 0.9684\n",
      "Epoch 196/300\n",
      "61/61 [==============================] - 3s 41ms/step - loss: 0.0335 - accuracy: 0.9882 - val_loss: 0.0611 - val_accuracy: 0.9802\n",
      "Epoch 197/300\n",
      "61/61 [==============================] - 3s 42ms/step - loss: 0.0991 - accuracy: 0.9636 - val_loss: 0.1300 - val_accuracy: 0.9684\n",
      "Epoch 198/300\n",
      "61/61 [==============================] - 2s 41ms/step - loss: 0.0346 - accuracy: 0.9887 - val_loss: 0.0601 - val_accuracy: 0.9763\n",
      "Epoch 199/300\n",
      "61/61 [==============================] - 3s 42ms/step - loss: 0.0426 - accuracy: 0.9815 - val_loss: 0.0272 - val_accuracy: 0.9842\n",
      "Epoch 200/300\n",
      "61/61 [==============================] - 2s 41ms/step - loss: 0.0339 - accuracy: 0.9882 - val_loss: 0.0357 - val_accuracy: 0.9842\n",
      "Epoch 201/300\n",
      "61/61 [==============================] - 2s 41ms/step - loss: 0.0655 - accuracy: 0.9821 - val_loss: 0.0558 - val_accuracy: 0.9763\n",
      "Epoch 202/300\n",
      "61/61 [==============================] - 3s 42ms/step - loss: 0.0402 - accuracy: 0.9872 - val_loss: 0.0483 - val_accuracy: 0.9842\n",
      "Epoch 203/300\n",
      "61/61 [==============================] - 2s 41ms/step - loss: 0.0435 - accuracy: 0.9846 - val_loss: 0.0434 - val_accuracy: 0.9802\n",
      "Epoch 204/300\n",
      "61/61 [==============================] - 3s 41ms/step - loss: 0.0317 - accuracy: 0.9887 - val_loss: 0.1205 - val_accuracy: 0.9644\n",
      "Epoch 205/300\n",
      "61/61 [==============================] - 3s 43ms/step - loss: 0.0331 - accuracy: 0.9903 - val_loss: 0.0942 - val_accuracy: 0.9842\n",
      "Epoch 206/300\n",
      "61/61 [==============================] - 3s 41ms/step - loss: 0.0407 - accuracy: 0.9846 - val_loss: 0.0440 - val_accuracy: 0.9960\n",
      "Epoch 207/300\n",
      "61/61 [==============================] - 3s 41ms/step - loss: 0.0343 - accuracy: 0.9862 - val_loss: 0.1647 - val_accuracy: 0.9526\n",
      "Epoch 208/300\n",
      "61/61 [==============================] - 3s 42ms/step - loss: 0.0306 - accuracy: 0.9903 - val_loss: 0.0601 - val_accuracy: 0.9802\n",
      "Epoch 209/300\n",
      "61/61 [==============================] - 2s 41ms/step - loss: 0.0248 - accuracy: 0.9903 - val_loss: 0.0607 - val_accuracy: 0.9802\n",
      "Epoch 210/300\n",
      "61/61 [==============================] - 2s 41ms/step - loss: 0.0430 - accuracy: 0.9872 - val_loss: 0.0415 - val_accuracy: 0.9921\n",
      "Epoch 211/300\n",
      "61/61 [==============================] - 3s 42ms/step - loss: 0.0433 - accuracy: 0.9877 - val_loss: 0.0622 - val_accuracy: 0.9881\n",
      "Epoch 212/300\n",
      "61/61 [==============================] - 2s 41ms/step - loss: 0.0341 - accuracy: 0.9872 - val_loss: 0.0623 - val_accuracy: 0.9842\n",
      "Epoch 213/300\n",
      "61/61 [==============================] - 2s 41ms/step - loss: 0.0318 - accuracy: 0.9908 - val_loss: 0.0697 - val_accuracy: 0.9802\n",
      "Epoch 214/300\n",
      "61/61 [==============================] - 2s 41ms/step - loss: 0.0259 - accuracy: 0.9913 - val_loss: 0.0413 - val_accuracy: 0.9842\n",
      "Epoch 215/300\n",
      "61/61 [==============================] - 3s 41ms/step - loss: 0.0369 - accuracy: 0.9856 - val_loss: 0.0874 - val_accuracy: 0.9605\n",
      "Epoch 216/300\n",
      "61/61 [==============================] - 2s 41ms/step - loss: 0.0548 - accuracy: 0.9826 - val_loss: 0.0459 - val_accuracy: 0.9802\n",
      "Epoch 217/300\n",
      "61/61 [==============================] - 3s 41ms/step - loss: 0.0389 - accuracy: 0.9846 - val_loss: 0.0699 - val_accuracy: 0.9842\n",
      "Epoch 218/300\n",
      "61/61 [==============================] - 3s 43ms/step - loss: 0.0384 - accuracy: 0.9908 - val_loss: 0.0424 - val_accuracy: 0.9881\n",
      "Epoch 219/300\n",
      "61/61 [==============================] - 3s 42ms/step - loss: 0.0313 - accuracy: 0.9903 - val_loss: 0.0349 - val_accuracy: 0.9842\n",
      "Epoch 220/300\n",
      "61/61 [==============================] - 2s 41ms/step - loss: 0.0562 - accuracy: 0.9800 - val_loss: 0.0407 - val_accuracy: 0.9881\n",
      "Epoch 221/300\n",
      "61/61 [==============================] - 2s 41ms/step - loss: 0.0276 - accuracy: 0.9908 - val_loss: 0.0633 - val_accuracy: 0.9802\n",
      "Epoch 222/300\n",
      "61/61 [==============================] - 2s 41ms/step - loss: 0.0594 - accuracy: 0.9810 - val_loss: 0.0422 - val_accuracy: 0.9921\n",
      "Epoch 223/300\n",
      "61/61 [==============================] - 3s 41ms/step - loss: 0.0393 - accuracy: 0.9887 - val_loss: 0.1079 - val_accuracy: 0.9723\n",
      "Epoch 224/300\n",
      "61/61 [==============================] - 2s 41ms/step - loss: 0.1366 - accuracy: 0.9590 - val_loss: 0.0914 - val_accuracy: 0.9644\n",
      "Epoch 225/300\n",
      "61/61 [==============================] - 2s 41ms/step - loss: 0.0416 - accuracy: 0.9856 - val_loss: 0.0828 - val_accuracy: 0.9565\n",
      "Epoch 226/300\n",
      "61/61 [==============================] - 2s 41ms/step - loss: 0.0530 - accuracy: 0.9856 - val_loss: 0.1088 - val_accuracy: 0.9644\n",
      "Epoch 227/300\n",
      "61/61 [==============================] - 3s 42ms/step - loss: 0.0725 - accuracy: 0.9744 - val_loss: 0.0745 - val_accuracy: 0.9802\n",
      "Epoch 228/300\n",
      "61/61 [==============================] - 3s 41ms/step - loss: 0.0458 - accuracy: 0.9851 - val_loss: 0.1221 - val_accuracy: 0.9723\n",
      "Epoch 229/300\n",
      "61/61 [==============================] - 2s 41ms/step - loss: 0.0321 - accuracy: 0.9887 - val_loss: 0.1037 - val_accuracy: 0.9763\n",
      "Epoch 230/300\n",
      "61/61 [==============================] - 3s 42ms/step - loss: 0.0184 - accuracy: 0.9928 - val_loss: 0.0978 - val_accuracy: 0.9842\n",
      "Epoch 231/300\n",
      "61/61 [==============================] - 3s 42ms/step - loss: 0.0249 - accuracy: 0.9903 - val_loss: 0.0759 - val_accuracy: 0.9881\n",
      "Epoch 232/300\n",
      "61/61 [==============================] - 2s 41ms/step - loss: 0.0291 - accuracy: 0.9908 - val_loss: 0.1510 - val_accuracy: 0.9763\n",
      "Epoch 233/300\n",
      "61/61 [==============================] - 2s 41ms/step - loss: 0.0257 - accuracy: 0.9882 - val_loss: 0.1225 - val_accuracy: 0.9644\n",
      "Epoch 234/300\n",
      "61/61 [==============================] - 3s 42ms/step - loss: 0.0480 - accuracy: 0.9862 - val_loss: 0.0693 - val_accuracy: 0.9842\n",
      "Epoch 235/300\n",
      "61/61 [==============================] - 2s 41ms/step - loss: 0.0262 - accuracy: 0.9923 - val_loss: 0.0914 - val_accuracy: 0.9921\n",
      "Epoch 236/300\n",
      "61/61 [==============================] - 2s 41ms/step - loss: 0.0555 - accuracy: 0.9836 - val_loss: 0.0347 - val_accuracy: 0.9842\n",
      "Epoch 237/300\n",
      "61/61 [==============================] - 2s 41ms/step - loss: 0.0232 - accuracy: 0.9933 - val_loss: 0.0484 - val_accuracy: 0.9842\n",
      "Epoch 238/300\n",
      "61/61 [==============================] - 3s 41ms/step - loss: 0.0465 - accuracy: 0.9821 - val_loss: 0.1056 - val_accuracy: 0.9684\n",
      "Epoch 239/300\n",
      "61/61 [==============================] - 2s 41ms/step - loss: 0.0401 - accuracy: 0.9867 - val_loss: 0.0741 - val_accuracy: 0.9723\n",
      "Epoch 240/300\n",
      "61/61 [==============================] - 2s 41ms/step - loss: 0.0214 - accuracy: 0.9954 - val_loss: 0.1775 - val_accuracy: 0.9684\n",
      "Epoch 241/300\n",
      "61/61 [==============================] - 3s 42ms/step - loss: 0.0245 - accuracy: 0.9908 - val_loss: 0.0558 - val_accuracy: 0.9802\n",
      "Epoch 242/300\n",
      "61/61 [==============================] - 3s 42ms/step - loss: 0.0239 - accuracy: 0.9918 - val_loss: 0.0924 - val_accuracy: 0.9802\n",
      "Epoch 243/300\n",
      "61/61 [==============================] - 3s 43ms/step - loss: 0.0409 - accuracy: 0.9877 - val_loss: 0.0726 - val_accuracy: 0.9802\n",
      "Epoch 244/300\n",
      "61/61 [==============================] - 2s 40ms/step - loss: 0.0364 - accuracy: 0.9887 - val_loss: 0.1158 - val_accuracy: 0.9763\n",
      "Epoch 245/300\n",
      "61/61 [==============================] - 2s 41ms/step - loss: 0.0589 - accuracy: 0.9836 - val_loss: 0.0870 - val_accuracy: 0.9723\n",
      "Epoch 246/300\n",
      "61/61 [==============================] - 2s 41ms/step - loss: 0.0504 - accuracy: 0.9826 - val_loss: 0.0554 - val_accuracy: 0.9881\n",
      "Epoch 247/300\n",
      "61/61 [==============================] - 3s 41ms/step - loss: 0.0274 - accuracy: 0.9918 - val_loss: 0.0682 - val_accuracy: 0.9842\n",
      "Epoch 248/300\n",
      "61/61 [==============================] - 2s 41ms/step - loss: 0.0429 - accuracy: 0.9872 - val_loss: 0.0563 - val_accuracy: 0.9802\n",
      "Epoch 249/300\n",
      "61/61 [==============================] - 2s 41ms/step - loss: 0.0331 - accuracy: 0.9877 - val_loss: 0.0616 - val_accuracy: 0.9763\n",
      "Epoch 250/300\n",
      "61/61 [==============================] - 2s 41ms/step - loss: 0.0594 - accuracy: 0.9815 - val_loss: 0.0505 - val_accuracy: 0.9802\n",
      "Epoch 251/300\n",
      "61/61 [==============================] - 3s 41ms/step - loss: 0.0338 - accuracy: 0.9887 - val_loss: 0.1148 - val_accuracy: 0.9763\n",
      "Epoch 252/300\n",
      "61/61 [==============================] - 2s 41ms/step - loss: 0.0708 - accuracy: 0.9805 - val_loss: 0.0434 - val_accuracy: 0.9802\n",
      "Epoch 253/300\n",
      "61/61 [==============================] - 2s 41ms/step - loss: 0.0398 - accuracy: 0.9872 - val_loss: 0.0358 - val_accuracy: 0.9842\n",
      "Epoch 254/300\n",
      "61/61 [==============================] - 3s 42ms/step - loss: 0.0262 - accuracy: 0.9892 - val_loss: 0.0407 - val_accuracy: 0.9802\n",
      "Epoch 255/300\n",
      "61/61 [==============================] - 3s 45ms/step - loss: 0.0465 - accuracy: 0.9867 - val_loss: 0.0523 - val_accuracy: 0.9881\n",
      "Epoch 256/300\n",
      "61/61 [==============================] - 3s 47ms/step - loss: 0.0240 - accuracy: 0.9908 - val_loss: 0.1145 - val_accuracy: 0.9605\n",
      "Epoch 257/300\n",
      "61/61 [==============================] - 2s 41ms/step - loss: 0.0269 - accuracy: 0.9933 - val_loss: 0.0313 - val_accuracy: 0.9921\n",
      "Epoch 258/300\n",
      "61/61 [==============================] - 2s 41ms/step - loss: 0.0447 - accuracy: 0.9846 - val_loss: 0.0942 - val_accuracy: 0.9684\n",
      "Epoch 259/300\n",
      "61/61 [==============================] - 3s 41ms/step - loss: 0.0443 - accuracy: 0.9841 - val_loss: 0.0533 - val_accuracy: 0.9802\n",
      "Epoch 260/300\n",
      "61/61 [==============================] - 2s 41ms/step - loss: 0.0562 - accuracy: 0.9795 - val_loss: 0.0530 - val_accuracy: 0.9723\n",
      "Epoch 261/300\n",
      "61/61 [==============================] - 2s 41ms/step - loss: 0.0296 - accuracy: 0.9913 - val_loss: 0.0334 - val_accuracy: 0.9881\n",
      "Epoch 262/300\n",
      "61/61 [==============================] - 2s 41ms/step - loss: 0.0222 - accuracy: 0.9913 - val_loss: 0.0375 - val_accuracy: 0.9802\n",
      "Epoch 263/300\n",
      "61/61 [==============================] - 3s 41ms/step - loss: 0.0235 - accuracy: 0.9923 - val_loss: 0.0757 - val_accuracy: 0.9802\n",
      "Epoch 264/300\n",
      "61/61 [==============================] - 2s 41ms/step - loss: 0.0221 - accuracy: 0.9923 - val_loss: 0.0737 - val_accuracy: 0.9881\n",
      "Epoch 265/300\n",
      "61/61 [==============================] - 2s 41ms/step - loss: 0.0145 - accuracy: 0.9944 - val_loss: 0.0795 - val_accuracy: 0.9881\n",
      "Epoch 266/300\n",
      "61/61 [==============================] - 2s 41ms/step - loss: 0.0883 - accuracy: 0.9759 - val_loss: 0.1037 - val_accuracy: 0.9684\n",
      "Epoch 267/300\n",
      "61/61 [==============================] - 3s 46ms/step - loss: 0.0447 - accuracy: 0.9841 - val_loss: 0.0906 - val_accuracy: 0.9644\n",
      "Epoch 268/300\n",
      "61/61 [==============================] - 3s 42ms/step - loss: 0.0295 - accuracy: 0.9892 - val_loss: 0.0742 - val_accuracy: 0.9802\n",
      "Epoch 269/300\n",
      "61/61 [==============================] - 2s 41ms/step - loss: 0.0202 - accuracy: 0.9928 - val_loss: 0.1328 - val_accuracy: 0.9763\n",
      "Epoch 270/300\n",
      "61/61 [==============================] - 2s 41ms/step - loss: 0.0289 - accuracy: 0.9887 - val_loss: 0.0404 - val_accuracy: 0.9842\n",
      "Epoch 271/300\n",
      "61/61 [==============================] - 3s 41ms/step - loss: 0.0446 - accuracy: 0.9856 - val_loss: 0.0526 - val_accuracy: 0.9842\n",
      "Epoch 272/300\n",
      "61/61 [==============================] - 2s 41ms/step - loss: 0.0408 - accuracy: 0.9882 - val_loss: 0.0458 - val_accuracy: 0.9763\n",
      "Epoch 273/300\n",
      "61/61 [==============================] - 2s 41ms/step - loss: 0.0226 - accuracy: 0.9913 - val_loss: 0.0293 - val_accuracy: 0.9921\n",
      "Epoch 274/300\n",
      "61/61 [==============================] - 2s 41ms/step - loss: 0.0307 - accuracy: 0.9903 - val_loss: 0.0294 - val_accuracy: 0.9921\n",
      "Epoch 275/300\n",
      "61/61 [==============================] - 3s 41ms/step - loss: 0.0210 - accuracy: 0.9908 - val_loss: 0.1075 - val_accuracy: 0.9842\n",
      "Epoch 276/300\n",
      "61/61 [==============================] - 2s 41ms/step - loss: 0.0285 - accuracy: 0.9908 - val_loss: 0.0366 - val_accuracy: 0.9842\n",
      "Epoch 277/300\n",
      "61/61 [==============================] - 2s 41ms/step - loss: 0.0319 - accuracy: 0.9903 - val_loss: 0.0935 - val_accuracy: 0.9802\n",
      "Epoch 278/300\n",
      "61/61 [==============================] - 2s 41ms/step - loss: 0.0173 - accuracy: 0.9933 - val_loss: 0.0638 - val_accuracy: 0.9842\n",
      "Epoch 279/300\n",
      "61/61 [==============================] - 2s 41ms/step - loss: 0.0194 - accuracy: 0.9949 - val_loss: 0.0713 - val_accuracy: 0.9842\n",
      "Epoch 280/300\n",
      "61/61 [==============================] - 3s 48ms/step - loss: 0.0127 - accuracy: 0.9954 - val_loss: 0.0504 - val_accuracy: 0.9881\n",
      "Epoch 281/300\n",
      "61/61 [==============================] - 3s 43ms/step - loss: 0.0176 - accuracy: 0.9944 - val_loss: 0.0522 - val_accuracy: 0.9881\n",
      "Epoch 282/300\n",
      "61/61 [==============================] - 2s 41ms/step - loss: 0.0063 - accuracy: 0.9985 - val_loss: 0.0373 - val_accuracy: 0.9881\n",
      "Epoch 283/300\n",
      "61/61 [==============================] - 2s 41ms/step - loss: 0.0310 - accuracy: 0.9918 - val_loss: 0.0390 - val_accuracy: 0.9763\n",
      "Epoch 284/300\n",
      "61/61 [==============================] - 3s 41ms/step - loss: 0.0311 - accuracy: 0.9892 - val_loss: 0.0474 - val_accuracy: 0.9802\n",
      "Epoch 285/300\n",
      "61/61 [==============================] - 2s 41ms/step - loss: 0.0147 - accuracy: 0.9959 - val_loss: 0.0411 - val_accuracy: 0.9881\n",
      "Epoch 286/300\n",
      "61/61 [==============================] - 2s 41ms/step - loss: 0.0383 - accuracy: 0.9856 - val_loss: 0.0368 - val_accuracy: 0.9802\n",
      "Epoch 287/300\n",
      "61/61 [==============================] - 2s 41ms/step - loss: 0.0660 - accuracy: 0.9800 - val_loss: 0.0372 - val_accuracy: 0.9802\n",
      "Epoch 288/300\n",
      "61/61 [==============================] - 3s 41ms/step - loss: 0.0297 - accuracy: 0.9903 - val_loss: 0.2007 - val_accuracy: 0.9447\n",
      "Epoch 289/300\n",
      "61/61 [==============================] - 2s 41ms/step - loss: 0.0795 - accuracy: 0.9785 - val_loss: 0.1901 - val_accuracy: 0.9605\n",
      "Epoch 290/300\n",
      "61/61 [==============================] - 2s 40ms/step - loss: 0.0342 - accuracy: 0.9877 - val_loss: 0.0604 - val_accuracy: 0.9802\n",
      "Epoch 291/300\n",
      "61/61 [==============================] - 2s 41ms/step - loss: 0.0329 - accuracy: 0.9887 - val_loss: 0.1027 - val_accuracy: 0.9802\n",
      "Epoch 292/300\n",
      "61/61 [==============================] - 2s 41ms/step - loss: 0.0274 - accuracy: 0.9923 - val_loss: 0.4417 - val_accuracy: 0.9051\n",
      "Epoch 293/300\n",
      "61/61 [==============================] - 3s 45ms/step - loss: 0.0529 - accuracy: 0.9862 - val_loss: 0.0302 - val_accuracy: 0.9921\n",
      "Epoch 294/300\n",
      "61/61 [==============================] - 3s 43ms/step - loss: 0.0229 - accuracy: 0.9928 - val_loss: 0.0781 - val_accuracy: 0.9802\n",
      "Epoch 295/300\n",
      "61/61 [==============================] - 2s 41ms/step - loss: 0.0180 - accuracy: 0.9938 - val_loss: 0.0507 - val_accuracy: 0.9763\n",
      "Epoch 296/300\n",
      "61/61 [==============================] - 3s 41ms/step - loss: 0.0310 - accuracy: 0.9908 - val_loss: 0.1212 - val_accuracy: 0.9763\n",
      "Epoch 297/300\n",
      "61/61 [==============================] - 2s 41ms/step - loss: 0.0435 - accuracy: 0.9862 - val_loss: 0.1575 - val_accuracy: 0.9565\n",
      "Epoch 298/300\n",
      "61/61 [==============================] - 2s 41ms/step - loss: 0.0673 - accuracy: 0.9805 - val_loss: 0.1064 - val_accuracy: 0.9763\n",
      "Epoch 299/300\n",
      "61/61 [==============================] - 2s 41ms/step - loss: 0.0429 - accuracy: 0.9862 - val_loss: 0.0396 - val_accuracy: 0.9763\n",
      "Epoch 300/300\n",
      "61/61 [==============================] - 3s 41ms/step - loss: 0.0274 - accuracy: 0.9918 - val_loss: 0.1090 - val_accuracy: 0.9763\n"
     ]
    }
   ],
   "source": [
    "history = plant_model.fit(\n",
    "    train_ds,\n",
    "    callbacks = [model_checkpoint_callback],\n",
    "    epochs = EPOCHS,\n",
    "    verbose = 1,\n",
    "    validation_data = valid_ds\n",
    ")"
   ]
  },
  {
   "cell_type": "code",
   "execution_count": 15,
   "id": "96627f07",
   "metadata": {
    "execution": {
     "iopub.execute_input": "2022-05-12T03:18:10.629159Z",
     "iopub.status.busy": "2022-05-12T03:18:10.628712Z",
     "iopub.status.idle": "2022-05-12T03:18:12.695400Z",
     "shell.execute_reply": "2022-05-12T03:18:12.694687Z"
    },
    "papermill": {
     "duration": 5.139166,
     "end_time": "2022-05-12T03:18:12.697231",
     "exception": false,
     "start_time": "2022-05-12T03:18:07.558065",
     "status": "completed"
    },
    "tags": []
   },
   "outputs": [
    {
     "name": "stdout",
     "output_type": "stream",
     "text": [
      "4/4 [==============================] - 2s 51ms/step - loss: 0.0254 - accuracy: 0.9906\n"
     ]
    }
   ],
   "source": [
    "scores = plant_model.evaluate(test_ds)"
   ]
  },
  {
   "cell_type": "code",
   "execution_count": 16,
   "id": "62d99df2",
   "metadata": {
    "execution": {
     "iopub.execute_input": "2022-05-12T03:18:19.586464Z",
     "iopub.status.busy": "2022-05-12T03:18:19.586196Z",
     "iopub.status.idle": "2022-05-12T03:18:19.591257Z",
     "shell.execute_reply": "2022-05-12T03:18:19.590430Z"
    },
    "papermill": {
     "duration": 3.107209,
     "end_time": "2022-05-12T03:18:19.593933",
     "exception": false,
     "start_time": "2022-05-12T03:18:16.486724",
     "status": "completed"
    },
    "tags": []
   },
   "outputs": [
    {
     "data": {
      "text/plain": [
       "[0.02543722093105316, 0.9905660152435303]"
      ]
     },
     "execution_count": 16,
     "metadata": {},
     "output_type": "execute_result"
    }
   ],
   "source": [
    "scores"
   ]
  },
  {
   "cell_type": "code",
   "execution_count": 17,
   "id": "349d6ec7",
   "metadata": {
    "execution": {
     "iopub.execute_input": "2022-05-12T03:18:26.018305Z",
     "iopub.status.busy": "2022-05-12T03:18:26.017984Z",
     "iopub.status.idle": "2022-05-12T03:18:26.026396Z",
     "shell.execute_reply": "2022-05-12T03:18:26.025771Z"
    },
    "papermill": {
     "duration": 3.251983,
     "end_time": "2022-05-12T03:18:26.028053",
     "exception": false,
     "start_time": "2022-05-12T03:18:22.776070",
     "status": "completed"
    },
    "tags": []
   },
   "outputs": [
    {
     "data": {
      "text/plain": [
       "<keras.callbacks.History at 0x7fb26606ae10>"
      ]
     },
     "execution_count": 17,
     "metadata": {},
     "output_type": "execute_result"
    }
   ],
   "source": [
    "history"
   ]
  },
  {
   "cell_type": "code",
   "execution_count": 18,
   "id": "c5bcdbc3",
   "metadata": {
    "execution": {
     "iopub.execute_input": "2022-05-12T03:18:32.259593Z",
     "iopub.status.busy": "2022-05-12T03:18:32.259330Z",
     "iopub.status.idle": "2022-05-12T03:18:32.264253Z",
     "shell.execute_reply": "2022-05-12T03:18:32.263596Z"
    },
    "papermill": {
     "duration": 3.08939,
     "end_time": "2022-05-12T03:18:32.266672",
     "exception": false,
     "start_time": "2022-05-12T03:18:29.177282",
     "status": "completed"
    },
    "tags": []
   },
   "outputs": [
    {
     "data": {
      "text/plain": [
       "{'verbose': 1, 'epochs': 300, 'steps': 61}"
      ]
     },
     "execution_count": 18,
     "metadata": {},
     "output_type": "execute_result"
    }
   ],
   "source": [
    "history.params"
   ]
  },
  {
   "cell_type": "code",
   "execution_count": 19,
   "id": "4c3b8a0f",
   "metadata": {
    "execution": {
     "iopub.execute_input": "2022-05-12T03:18:38.639379Z",
     "iopub.status.busy": "2022-05-12T03:18:38.639115Z",
     "iopub.status.idle": "2022-05-12T03:18:38.644136Z",
     "shell.execute_reply": "2022-05-12T03:18:38.643467Z"
    },
    "papermill": {
     "duration": 3.364504,
     "end_time": "2022-05-12T03:18:38.646083",
     "exception": false,
     "start_time": "2022-05-12T03:18:35.281579",
     "status": "completed"
    },
    "tags": []
   },
   "outputs": [
    {
     "data": {
      "text/plain": [
       "dict_keys(['loss', 'accuracy', 'val_loss', 'val_accuracy'])"
      ]
     },
     "execution_count": 19,
     "metadata": {},
     "output_type": "execute_result"
    }
   ],
   "source": [
    "history.history.keys()"
   ]
  },
  {
   "cell_type": "markdown",
   "id": "d96aaaa6",
   "metadata": {
    "papermill": {
     "duration": 3.068052,
     "end_time": "2022-05-12T03:18:44.760977",
     "exception": false,
     "start_time": "2022-05-12T03:18:41.692925",
     "status": "completed"
    },
    "tags": []
   },
   "source": [
    "### Plotting "
   ]
  },
  {
   "cell_type": "code",
   "execution_count": 20,
   "id": "4a3e5890",
   "metadata": {
    "execution": {
     "iopub.execute_input": "2022-05-12T03:18:51.667377Z",
     "iopub.status.busy": "2022-05-12T03:18:51.667115Z",
     "iopub.status.idle": "2022-05-12T03:18:51.671313Z",
     "shell.execute_reply": "2022-05-12T03:18:51.670650Z"
    },
    "papermill": {
     "duration": 3.092527,
     "end_time": "2022-05-12T03:18:51.672957",
     "exception": false,
     "start_time": "2022-05-12T03:18:48.580430",
     "status": "completed"
    },
    "tags": []
   },
   "outputs": [],
   "source": [
    "acc = history.history['accuracy']\n",
    "val_acc = history.history['val_accuracy']\n",
    "\n",
    "loss = history.history['loss']\n",
    "val_loss = history.history['val_loss']"
   ]
  },
  {
   "cell_type": "code",
   "execution_count": 21,
   "id": "43d5abd7",
   "metadata": {
    "execution": {
     "iopub.execute_input": "2022-05-12T03:18:57.788341Z",
     "iopub.status.busy": "2022-05-12T03:18:57.788093Z",
     "iopub.status.idle": "2022-05-12T03:18:58.168365Z",
     "shell.execute_reply": "2022-05-12T03:18:58.167632Z"
    },
    "papermill": {
     "duration": 3.429323,
     "end_time": "2022-05-12T03:18:58.170164",
     "exception": false,
     "start_time": "2022-05-12T03:18:54.740841",
     "status": "completed"
    },
    "tags": []
   },
   "outputs": [
    {
     "data": {
      "image/png": "[encoded data removed]",
      "text/plain": [
       "<Figure size 576x576 with 1 Axes>"
      ]
     },
     "metadata": {
      "needs_background": "light"
     },
     "output_type": "display_data"
    },
    {
     "data": {
      "image/png": "[encoded data removed]",
      "text/plain": [
       "<Figure size 576x576 with 1 Axes>"
      ]
     },
     "metadata": {
      "needs_background": "light"
     },
     "output_type": "display_data"
    }
   ],
   "source": [
    "plt.figure(figsize = (8,8))\n",
    "plt.subplot( 1 , 2 , 1)\n",
    "plt.plot(range(EPOCHS), acc, label = 'Training Accuracy')\n",
    "plt.plot(range(EPOCHS), val_acc, label = 'Validation Accuracy')\n",
    "plt.legend(loc = 'lower right')\n",
    "plt.title('Training and Validation Accuracy')\n",
    "\n",
    "plt.figure(figsize = (8,8))\n",
    "plt.subplot( 1 , 2 , 1)\n",
    "plt.plot(range(EPOCHS), loss, label = 'Training loss')\n",
    "plt.plot(range(EPOCHS), val_loss, label = 'Validation loss')\n",
    "plt.legend(loc = 'lower right')\n",
    "plt.title('Training and Validation Accuracy')\n",
    "\n",
    "plt.show()"
   ]
  }
 ],
 "metadata": {
  "kernelspec": {
   "display_name": "Python 3",
   "language": "python",
   "name": "python3"
  },
  "language_info": {
   "codemirror_mode": {
    "name": "ipython",
    "version": 3
   },
   "file_extension": ".py",
   "mimetype": "text/x-python",
   "name": "python",
   "nbconvert_exporter": "python",
   "pygments_lexer": "ipython3",
   "version": "3.7.12"
  },
  "papermill": {
   "default_parameters": {},
   "duration": 972.962382,
   "end_time": "2022-05-12T03:19:04.964382",
   "environment_variables": {},
   "exception": null,
   "input_path": "__notebook__.ipynb",
   "output_path": "__notebook__.ipynb",
   "parameters": {},
   "start_time": "2022-05-12T03:02:52.002000",
   "version": "2.3.4"
  }
 },
 "nbformat": 4,
 "nbformat_minor": 5
}
